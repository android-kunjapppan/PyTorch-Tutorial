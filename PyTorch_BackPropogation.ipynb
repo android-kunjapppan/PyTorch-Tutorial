{
  "nbformat": 4,
  "nbformat_minor": 0,
  "metadata": {
    "colab": {
      "name": "PyTorch_BackPropogation.ipynb",
      "provenance": [],
      "authorship_tag": "ABX9TyOkkgNDV4e0uP5vknr84I9S",
      "include_colab_link": true
    },
    "kernelspec": {
      "name": "python3",
      "display_name": "Python 3"
    }
  },
  "cells": [
    {
      "cell_type": "markdown",
      "metadata": {
        "id": "view-in-github",
        "colab_type": "text"
      },
      "source": [
        "<a href=\"https://colab.research.google.com/github/android-kunjapppan/PyTorch-Tutorial/blob/master/PyTorch_BackPropogation.ipynb\" target=\"_parent\"><img src=\"https://colab.research.google.com/assets/colab-badge.svg\" alt=\"Open In Colab\"/></a>"
      ]
    },
    {
      "cell_type": "markdown",
      "metadata": {
        "id": "TUg5P5SCk38I",
        "colab_type": "text"
      },
      "source": [
        "# Chain Rule: \n",
        "    dz/dx = (dz/dy)*(dy/dx)\n",
        "\n",
        "# Computational Graph:\n",
        "    For every operation, we do with our tensor, pytorch will create an graphn for us.\n",
        "  \n",
        "# 3 STEPS:\n",
        "1. Forward pass: Compute Loss\n",
        "2. Compute Local Gradients\n",
        "3. Backward Pass: Compute (dLoss/dWeights) using the Chain Rule"
      ]
    },
    {
      "cell_type": "code",
      "metadata": {
        "id": "yQI_5GKqk5o7",
        "colab_type": "code",
        "colab": {
          "base_uri": "https://localhost:8080/",
          "height": 50
        },
        "outputId": "6404bed2-2859-4f72-f2ca-4d43401e2e3f"
      },
      "source": [
        "import torch\n",
        "\n",
        "x = torch.tensor(1.0)\n",
        "y = torch.tensor(2.0)\n",
        "\n",
        "w= torch.tensor(1.0, requires_grad=True)\n",
        "\n",
        "# Forward pass and compute the loss\n",
        "y_hat = w*x\n",
        "loss = (y_hat-y)**2\n",
        "\n",
        "print(loss)\n",
        "\n",
        "# Backward pass\n",
        "loss.backward()\n",
        "print(w.grad) # should print -2\n",
        "\n",
        "# Next Steps:\n",
        "# 1. Update our weights\n",
        "# 2. next forward and backward pass"
      ],
      "execution_count": 13,
      "outputs": [
        {
          "output_type": "stream",
          "text": [
            "tensor(1., grad_fn=<PowBackward0>)\n",
            "tensor(-2.)\n"
          ],
          "name": "stdout"
        }
      ]
    }
  ]
}