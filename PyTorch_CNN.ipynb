{
  "nbformat": 4,
  "nbformat_minor": 0,
  "metadata": {
    "colab": {
      "name": "PyTorch_CNN.ipynb",
      "provenance": [],
      "authorship_tag": "ABX9TyNtrF5CTDJqZnZ2nRkQFN8/",
      "include_colab_link": true
    },
    "kernelspec": {
      "name": "python3",
      "display_name": "Python 3"
    },
    "accelerator": "GPU",
    "widgets": {
      "application/vnd.jupyter.widget-state+json": {
        "ac9a5e3fac4c49bd87a37ded221d206b": {
          "model_module": "@jupyter-widgets/controls",
          "model_name": "HBoxModel",
          "state": {
            "_view_name": "HBoxView",
            "_dom_classes": [],
            "_model_name": "HBoxModel",
            "_view_module": "@jupyter-widgets/controls",
            "_model_module_version": "1.5.0",
            "_view_count": null,
            "_view_module_version": "1.5.0",
            "box_style": "",
            "layout": "IPY_MODEL_25b903c9fd2b4cabbd40624b62f592c2",
            "_model_module": "@jupyter-widgets/controls",
            "children": [
              "IPY_MODEL_415204c74eda4c15ae18e031e3ecfbc5",
              "IPY_MODEL_1c50ba7922864f539dce07bce659c5e3"
            ]
          }
        },
        "25b903c9fd2b4cabbd40624b62f592c2": {
          "model_module": "@jupyter-widgets/base",
          "model_name": "LayoutModel",
          "state": {
            "_view_name": "LayoutView",
            "grid_template_rows": null,
            "right": null,
            "justify_content": null,
            "_view_module": "@jupyter-widgets/base",
            "overflow": null,
            "_model_module_version": "1.2.0",
            "_view_count": null,
            "flex_flow": null,
            "width": null,
            "min_width": null,
            "border": null,
            "align_items": null,
            "bottom": null,
            "_model_module": "@jupyter-widgets/base",
            "top": null,
            "grid_column": null,
            "overflow_y": null,
            "overflow_x": null,
            "grid_auto_flow": null,
            "grid_area": null,
            "grid_template_columns": null,
            "flex": null,
            "_model_name": "LayoutModel",
            "justify_items": null,
            "grid_row": null,
            "max_height": null,
            "align_content": null,
            "visibility": null,
            "align_self": null,
            "height": null,
            "min_height": null,
            "padding": null,
            "grid_auto_rows": null,
            "grid_gap": null,
            "max_width": null,
            "order": null,
            "_view_module_version": "1.2.0",
            "grid_template_areas": null,
            "object_position": null,
            "object_fit": null,
            "grid_auto_columns": null,
            "margin": null,
            "display": null,
            "left": null
          }
        },
        "415204c74eda4c15ae18e031e3ecfbc5": {
          "model_module": "@jupyter-widgets/controls",
          "model_name": "FloatProgressModel",
          "state": {
            "_view_name": "ProgressView",
            "style": "IPY_MODEL_470ae33828484a6890b62a57eeb0dc44",
            "_dom_classes": [],
            "description": "",
            "_model_name": "FloatProgressModel",
            "bar_style": "info",
            "max": 1,
            "_view_module": "@jupyter-widgets/controls",
            "_model_module_version": "1.5.0",
            "value": 1,
            "_view_count": null,
            "_view_module_version": "1.5.0",
            "orientation": "horizontal",
            "min": 0,
            "description_tooltip": null,
            "_model_module": "@jupyter-widgets/controls",
            "layout": "IPY_MODEL_4bd33492938e4dbfac9feded09542316"
          }
        },
        "1c50ba7922864f539dce07bce659c5e3": {
          "model_module": "@jupyter-widgets/controls",
          "model_name": "HTMLModel",
          "state": {
            "_view_name": "HTMLView",
            "style": "IPY_MODEL_8bf940a424e04f8d9e59d94c31d0084c",
            "_dom_classes": [],
            "description": "",
            "_model_name": "HTMLModel",
            "placeholder": "​",
            "_view_module": "@jupyter-widgets/controls",
            "_model_module_version": "1.5.0",
            "value": " 170500096/? [00:20&lt;00:00, 53385283.66it/s]",
            "_view_count": null,
            "_view_module_version": "1.5.0",
            "description_tooltip": null,
            "_model_module": "@jupyter-widgets/controls",
            "layout": "IPY_MODEL_602b80efba3847af805f926787f3f5fc"
          }
        },
        "470ae33828484a6890b62a57eeb0dc44": {
          "model_module": "@jupyter-widgets/controls",
          "model_name": "ProgressStyleModel",
          "state": {
            "_view_name": "StyleView",
            "_model_name": "ProgressStyleModel",
            "description_width": "initial",
            "_view_module": "@jupyter-widgets/base",
            "_model_module_version": "1.5.0",
            "_view_count": null,
            "_view_module_version": "1.2.0",
            "bar_color": null,
            "_model_module": "@jupyter-widgets/controls"
          }
        },
        "4bd33492938e4dbfac9feded09542316": {
          "model_module": "@jupyter-widgets/base",
          "model_name": "LayoutModel",
          "state": {
            "_view_name": "LayoutView",
            "grid_template_rows": null,
            "right": null,
            "justify_content": null,
            "_view_module": "@jupyter-widgets/base",
            "overflow": null,
            "_model_module_version": "1.2.0",
            "_view_count": null,
            "flex_flow": null,
            "width": null,
            "min_width": null,
            "border": null,
            "align_items": null,
            "bottom": null,
            "_model_module": "@jupyter-widgets/base",
            "top": null,
            "grid_column": null,
            "overflow_y": null,
            "overflow_x": null,
            "grid_auto_flow": null,
            "grid_area": null,
            "grid_template_columns": null,
            "flex": null,
            "_model_name": "LayoutModel",
            "justify_items": null,
            "grid_row": null,
            "max_height": null,
            "align_content": null,
            "visibility": null,
            "align_self": null,
            "height": null,
            "min_height": null,
            "padding": null,
            "grid_auto_rows": null,
            "grid_gap": null,
            "max_width": null,
            "order": null,
            "_view_module_version": "1.2.0",
            "grid_template_areas": null,
            "object_position": null,
            "object_fit": null,
            "grid_auto_columns": null,
            "margin": null,
            "display": null,
            "left": null
          }
        },
        "8bf940a424e04f8d9e59d94c31d0084c": {
          "model_module": "@jupyter-widgets/controls",
          "model_name": "DescriptionStyleModel",
          "state": {
            "_view_name": "StyleView",
            "_model_name": "DescriptionStyleModel",
            "description_width": "",
            "_view_module": "@jupyter-widgets/base",
            "_model_module_version": "1.5.0",
            "_view_count": null,
            "_view_module_version": "1.2.0",
            "_model_module": "@jupyter-widgets/controls"
          }
        },
        "602b80efba3847af805f926787f3f5fc": {
          "model_module": "@jupyter-widgets/base",
          "model_name": "LayoutModel",
          "state": {
            "_view_name": "LayoutView",
            "grid_template_rows": null,
            "right": null,
            "justify_content": null,
            "_view_module": "@jupyter-widgets/base",
            "overflow": null,
            "_model_module_version": "1.2.0",
            "_view_count": null,
            "flex_flow": null,
            "width": null,
            "min_width": null,
            "border": null,
            "align_items": null,
            "bottom": null,
            "_model_module": "@jupyter-widgets/base",
            "top": null,
            "grid_column": null,
            "overflow_y": null,
            "overflow_x": null,
            "grid_auto_flow": null,
            "grid_area": null,
            "grid_template_columns": null,
            "flex": null,
            "_model_name": "LayoutModel",
            "justify_items": null,
            "grid_row": null,
            "max_height": null,
            "align_content": null,
            "visibility": null,
            "align_self": null,
            "height": null,
            "min_height": null,
            "padding": null,
            "grid_auto_rows": null,
            "grid_gap": null,
            "max_width": null,
            "order": null,
            "_view_module_version": "1.2.0",
            "grid_template_areas": null,
            "object_position": null,
            "object_fit": null,
            "grid_auto_columns": null,
            "margin": null,
            "display": null,
            "left": null
          }
        }
      }
    }
  },
  "cells": [
    {
      "cell_type": "markdown",
      "metadata": {
        "id": "view-in-github",
        "colab_type": "text"
      },
      "source": [
        "<a href=\"https://colab.research.google.com/github/android-kunjapppan/PyTorch-Tutorial/blob/master/PyTorch_CNN.ipynb\" target=\"_parent\"><img src=\"https://colab.research.google.com/assets/colab-badge.svg\" alt=\"Open In Colab\"/></a>"
      ]
    },
    {
      "cell_type": "markdown",
      "metadata": {
        "id": "bw5I2LMLzJnc",
        "colab_type": "text"
      },
      "source": [
        "# Convolutional Neural Netoworks:\n",
        "* Mainly work on image data and applys a operation called Convolutions\n",
        "      Initial Image * Filter = Resulting Image\n",
        "      (W-F+2P)/S + 1\n",
        "\n",
        "* Max Pooling is used to down sample an Image by appplying maximum filter to sub-regions. REduces the size of the image. And tries to avoid overfitting.\n",
        "\n"
      ]
    },
    {
      "cell_type": "code",
      "metadata": {
        "id": "9ncJ_czf0G3T",
        "colab_type": "code",
        "colab": {}
      },
      "source": [
        "import torch\n",
        "import torch.nn as nn\n",
        "import torch.nn.functional as F\n",
        "import torchvision\n",
        "import torchvision.transforms as transforms\n",
        "import matplotlib.pyplot as plt\n",
        "import numpy as np"
      ],
      "execution_count": 1,
      "outputs": []
    },
    {
      "cell_type": "markdown",
      "metadata": {
        "id": "aUBLGiGn00dx",
        "colab_type": "text"
      },
      "source": [
        "# Device Config"
      ]
    },
    {
      "cell_type": "code",
      "metadata": {
        "id": "UczUrq4a00y5",
        "colab_type": "code",
        "colab": {}
      },
      "source": [
        "device = torch.device('cuda' if torch.cuda.is_available() else 'cpu')"
      ],
      "execution_count": 2,
      "outputs": []
    },
    {
      "cell_type": "markdown",
      "metadata": {
        "id": "kzwfJQ-f07Hc",
        "colab_type": "text"
      },
      "source": [
        "# Hyperparameters\n"
      ]
    },
    {
      "cell_type": "code",
      "metadata": {
        "id": "CraEfinL06QV",
        "colab_type": "code",
        "colab": {}
      },
      "source": [
        "num_epochs =4\n",
        "batch_size = 4\n",
        "learning_rate = 0.001"
      ],
      "execution_count": 3,
      "outputs": []
    },
    {
      "cell_type": "markdown",
      "metadata": {
        "id": "aPnxdazO1G33",
        "colab_type": "text"
      },
      "source": [
        "# Transforms:\n",
        "* Dataset has PILImage images of range [0,1].\n",
        "* We transform them to the Tensors of Normalized range [-1,1]"
      ]
    },
    {
      "cell_type": "code",
      "metadata": {
        "id": "KbET1blJ1E-A",
        "colab_type": "code",
        "colab": {}
      },
      "source": [
        "transform = transforms.Compose(\n",
        "    [transforms.ToTensor(),\n",
        "     transforms.Normalize((0.5,0.5,0.5),(0.5,0.5,0.5))])"
      ],
      "execution_count": 4,
      "outputs": []
    },
    {
      "cell_type": "markdown",
      "metadata": {
        "id": "tlfTQZSS1vVi",
        "colab_type": "text"
      },
      "source": [
        "# Dataset:"
      ]
    },
    {
      "cell_type": "code",
      "metadata": {
        "id": "UsgVMjFk1tow",
        "colab_type": "code",
        "colab": {
          "base_uri": "https://localhost:8080/",
          "height": 101,
          "referenced_widgets": [
            "ac9a5e3fac4c49bd87a37ded221d206b",
            "25b903c9fd2b4cabbd40624b62f592c2",
            "415204c74eda4c15ae18e031e3ecfbc5",
            "1c50ba7922864f539dce07bce659c5e3",
            "470ae33828484a6890b62a57eeb0dc44",
            "4bd33492938e4dbfac9feded09542316",
            "8bf940a424e04f8d9e59d94c31d0084c",
            "602b80efba3847af805f926787f3f5fc"
          ]
        },
        "outputId": "e1cd3785-8585-4c47-f37b-16012f8b9e0e"
      },
      "source": [
        "train_dataset = torchvision.datasets.CIFAR10(root = './data',\n",
        "                                             train = True,\n",
        "                                             download = True,\n",
        "                                             transform = transform\n",
        "                                             )\n",
        "\n",
        "test_dataset = torchvision.datasets.CIFAR10(root = './data',\n",
        "                                             train = False,\n",
        "                                             download = True,\n",
        "                                             transform = transform\n",
        "                                             )"
      ],
      "execution_count": 5,
      "outputs": [
        {
          "output_type": "stream",
          "text": [
            "Downloading https://www.cs.toronto.edu/~kriz/cifar-10-python.tar.gz to ./data/cifar-10-python.tar.gz\n"
          ],
          "name": "stdout"
        },
        {
          "output_type": "display_data",
          "data": {
            "application/vnd.jupyter.widget-view+json": {
              "model_id": "ac9a5e3fac4c49bd87a37ded221d206b",
              "version_minor": 0,
              "version_major": 2
            },
            "text/plain": [
              "HBox(children=(FloatProgress(value=1.0, bar_style='info', max=1.0), HTML(value='')))"
            ]
          },
          "metadata": {
            "tags": []
          }
        },
        {
          "output_type": "stream",
          "text": [
            "Extracting ./data/cifar-10-python.tar.gz to ./data\n",
            "Files already downloaded and verified\n"
          ],
          "name": "stdout"
        }
      ]
    },
    {
      "cell_type": "markdown",
      "metadata": {
        "id": "loHgu7nx2Q1T",
        "colab_type": "text"
      },
      "source": [
        "# DataLoader"
      ]
    },
    {
      "cell_type": "code",
      "metadata": {
        "id": "XYV0Mz2y2QJG",
        "colab_type": "code",
        "colab": {}
      },
      "source": [
        "train_loader = torch.utils.data.DataLoader(train_dataset,\n",
        "                                          batch_size = batch_size,\n",
        "                                          shuffle = True\n",
        "                                          )\n",
        "\n",
        "test_loader = torch.utils.data.DataLoader(test_dataset,\n",
        "                                          batch_size = batch_size,\n",
        "                                          shuffle = False\n",
        "                                          )"
      ],
      "execution_count": 6,
      "outputs": []
    },
    {
      "cell_type": "code",
      "metadata": {
        "id": "dJn9hHmf2aZd",
        "colab_type": "code",
        "colab": {}
      },
      "source": [
        "# Dataset Classes\n",
        "classes = ('plane','car','bird','cat','deer',\n",
        "           'dog','frog','horse','ship','truck')"
      ],
      "execution_count": 7,
      "outputs": []
    },
    {
      "cell_type": "markdown",
      "metadata": {
        "id": "2WrskGX-23VA",
        "colab_type": "text"
      },
      "source": [
        "# ConvNet Model"
      ]
    },
    {
      "cell_type": "code",
      "metadata": {
        "id": "KlJoyiEP2agJ",
        "colab_type": "code",
        "colab": {}
      },
      "source": [
        "class ConvNet(nn.Module):\n",
        "    def __init__(self):\n",
        "        super(ConvNet, self).__init__()\n",
        "        self.conv1 = nn.Conv2d(3, 6, 5)# 3 because the image has 3 channels 'RGB'\n",
        "        # shape after this operation [4,6,28,28]\n",
        "\n",
        "        self.pool = nn.MaxPool2d(2, 2)\n",
        "        # [4,6,14,14]\n",
        "\n",
        "        self.conv2 = nn.Conv2d(6, 16, 5)\n",
        "        # [4,16,10,10]\n",
        "    \n",
        "        # will apply one more poolin layer in our network so the input size becomes [4,16,5,5]\n",
        "    \n",
        "        # 16*5*5 because the the o/p of previous layer will be [4,16,5,5] so will multiply 16*5*5\n",
        "        self.fc1 = nn.Linear(16 * 5 * 5, 120)\n",
        "        self.fc2 = nn.Linear(120, 84)\n",
        "        self.fc3 = nn.Linear(84, 10)\n",
        "\n",
        "    def forward(self, x):\n",
        "        # -> n, 3, 32, 32\n",
        "        x = self.pool(F.relu(self.conv1(x)))  # -> n, 6, 14, 14\n",
        "        x = self.pool(F.relu(self.conv2(x)))  # -> n, 16, 5, 5\n",
        "        x = x.view(-1, 16 * 5 * 5)            # -> n, 400\n",
        "        x = F.relu(self.fc1(x))               # -> n, 120\n",
        "        x = F.relu(self.fc2(x))               # -> n, 84\n",
        "        x = self.fc3(x)                       # -> n, 10\n",
        "        return x"
      ],
      "execution_count": 8,
      "outputs": []
    },
    {
      "cell_type": "code",
      "metadata": {
        "id": "v1Ya6LMD7TPj",
        "colab_type": "code",
        "colab": {}
      },
      "source": [
        "model = ConvNet().to(device)"
      ],
      "execution_count": 11,
      "outputs": []
    },
    {
      "cell_type": "code",
      "metadata": {
        "id": "G7yTPut17YuW",
        "colab_type": "code",
        "colab": {}
      },
      "source": [
        "criterion = nn.CrossEntropyLoss()\n",
        "optimizer = torch.optim.SGD(model.parameters(),lr = learning_rate)\n",
        "n_total_steps = len(train_loader)"
      ],
      "execution_count": 12,
      "outputs": []
    },
    {
      "cell_type": "markdown",
      "metadata": {
        "id": "YxsKVUs38FPA",
        "colab_type": "text"
      },
      "source": [
        "# Training:"
      ]
    },
    {
      "cell_type": "code",
      "metadata": {
        "id": "Oqp-TvPB8EPD",
        "colab_type": "code",
        "colab": {
          "base_uri": "https://localhost:8080/",
          "height": 433
        },
        "outputId": "1f980ae3-b0f5-4ba5-be1f-8a18b7aff863"
      },
      "source": [
        "for epoch in range(num_epochs):\n",
        "    for i, (images, labels) in enumerate(train_loader):\n",
        "        # origin shape: [4, 3, 32, 32] = 4, 3, 1024\n",
        "        # input_layer: 3 input channels, 6 output channels, 5 kernel size\n",
        "        images = images.to(device)\n",
        "        labels = labels.to(device)\n",
        "\n",
        "        # Forward pass\n",
        "        outputs = model(images)\n",
        "        loss = criterion(outputs, labels)\n",
        "\n",
        "        # Backward and optimize\n",
        "        optimizer.zero_grad()\n",
        "        loss.backward()\n",
        "        optimizer.step()\n",
        "\n",
        "        if (i+1) % 2000 == 0:\n",
        "            print (f'Epoch [{epoch+1}/{num_epochs}], Step [{i+1}/{n_total_steps}], Loss: {loss.item():.4f}')\n"
      ],
      "execution_count": 13,
      "outputs": [
        {
          "output_type": "stream",
          "text": [
            "Epoch [1/4], Step [2000/12500], Loss: 2.2931\n",
            "Epoch [1/4], Step [4000/12500], Loss: 2.3103\n",
            "Epoch [1/4], Step [6000/12500], Loss: 2.3988\n",
            "Epoch [1/4], Step [8000/12500], Loss: 2.0911\n",
            "Epoch [1/4], Step [10000/12500], Loss: 1.4725\n",
            "Epoch [1/4], Step [12000/12500], Loss: 2.6676\n",
            "Epoch [2/4], Step [2000/12500], Loss: 2.2665\n",
            "Epoch [2/4], Step [4000/12500], Loss: 1.8485\n",
            "Epoch [2/4], Step [6000/12500], Loss: 1.5291\n",
            "Epoch [2/4], Step [8000/12500], Loss: 1.7465\n",
            "Epoch [2/4], Step [10000/12500], Loss: 2.2851\n",
            "Epoch [2/4], Step [12000/12500], Loss: 1.4836\n",
            "Epoch [3/4], Step [2000/12500], Loss: 1.1934\n",
            "Epoch [3/4], Step [4000/12500], Loss: 1.5695\n",
            "Epoch [3/4], Step [6000/12500], Loss: 2.5468\n",
            "Epoch [3/4], Step [8000/12500], Loss: 0.9932\n",
            "Epoch [3/4], Step [10000/12500], Loss: 1.7287\n",
            "Epoch [3/4], Step [12000/12500], Loss: 1.3423\n",
            "Epoch [4/4], Step [2000/12500], Loss: 3.1454\n",
            "Epoch [4/4], Step [4000/12500], Loss: 2.3825\n",
            "Epoch [4/4], Step [6000/12500], Loss: 2.0000\n",
            "Epoch [4/4], Step [8000/12500], Loss: 1.3924\n",
            "Epoch [4/4], Step [10000/12500], Loss: 0.8439\n",
            "Epoch [4/4], Step [12000/12500], Loss: 1.1490\n"
          ],
          "name": "stdout"
        }
      ]
    },
    {
      "cell_type": "code",
      "metadata": {
        "id": "AhM3JqyC9tH8",
        "colab_type": "code",
        "colab": {
          "base_uri": "https://localhost:8080/",
          "height": 208
        },
        "outputId": "db5f436f-c235-4bb4-8208-5123a5632884"
      },
      "source": [
        "with torch.no_grad():\n",
        "    n_correct = 0\n",
        "    n_samples = 0\n",
        "    n_class_correct = [0 for i in range(10)]\n",
        "    n_class_samples = [0 for i in range(10)]\n",
        "    for images, labels in test_loader:\n",
        "        images = images.to(device)\n",
        "        labels = labels.to(device)\n",
        "        outputs = model(images)\n",
        "        # max returns (value ,index)\n",
        "        _, predicted = torch.max(outputs, 1)\n",
        "        n_samples += labels.size(0)\n",
        "        n_correct += (predicted == labels).sum().item()\n",
        "        \n",
        "        for i in range(batch_size):\n",
        "            label = labels[i]\n",
        "            pred = predicted[i]\n",
        "            if (label == pred):\n",
        "                n_class_correct[label] += 1\n",
        "            n_class_samples[label] += 1\n",
        "\n",
        "    acc = 100.0 * n_correct / n_samples\n",
        "    print(f'Accuracy of the network: {acc} %')\n",
        "\n",
        "    for i in range(10):\n",
        "        acc = 100.0 * n_class_correct[i] / n_class_samples[i]\n",
        "        print(f'Accuracy of {classes[i]}: {acc} %')"
      ],
      "execution_count": 14,
      "outputs": [
        {
          "output_type": "stream",
          "text": [
            "Accuracy of the network: 47.47 %\n",
            "Accuracy of plane: 59.2 %\n",
            "Accuracy of car: 62.3 %\n",
            "Accuracy of bird: 18.1 %\n",
            "Accuracy of cat: 23.9 %\n",
            "Accuracy of deer: 55.4 %\n",
            "Accuracy of dog: 43.8 %\n",
            "Accuracy of frog: 49.1 %\n",
            "Accuracy of horse: 58.4 %\n",
            "Accuracy of ship: 47.6 %\n",
            "Accuracy of truck: 56.9 %\n"
          ],
          "name": "stdout"
        }
      ]
    },
    {
      "cell_type": "code",
      "metadata": {
        "id": "5ImvOsYFHzL1",
        "colab_type": "code",
        "colab": {}
      },
      "source": [
        ""
      ],
      "execution_count": null,
      "outputs": []
    }
  ]
}