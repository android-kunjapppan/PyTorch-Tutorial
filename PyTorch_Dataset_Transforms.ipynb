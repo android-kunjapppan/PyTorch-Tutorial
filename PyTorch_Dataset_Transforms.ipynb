{
  "nbformat": 4,
  "nbformat_minor": 0,
  "metadata": {
    "colab": {
      "name": "PyTorch_Dataset_Transforms.ipynb",
      "provenance": [],
      "authorship_tag": "ABX9TyM9cAgxsl3sg0VDdwCID4kF",
      "include_colab_link": true
    },
    "kernelspec": {
      "name": "python3",
      "display_name": "Python 3"
    }
  },
  "cells": [
    {
      "cell_type": "markdown",
      "metadata": {
        "id": "view-in-github",
        "colab_type": "text"
      },
      "source": [
        "<a href=\"https://colab.research.google.com/github/android-kunjapppan/PyTorch-Tutorial/blob/master/PyTorch_Dataset_Transforms.ipynb\" target=\"_parent\"><img src=\"https://colab.research.google.com/assets/colab-badge.svg\" alt=\"Open In Colab\"/></a>"
      ]
    },
    {
      "cell_type": "markdown",
      "metadata": {
        "id": "CXpOfzIEE1YZ",
        "colab_type": "text"
      },
      "source": [
        "# Transforms"
      ]
    },
    {
      "cell_type": "code",
      "metadata": {
        "id": "ZY-elnN9E2UI",
        "colab_type": "code",
        "colab": {}
      },
      "source": [
        "import torch\n",
        "import torchvision\n"
      ],
      "execution_count": 20,
      "outputs": []
    },
    {
      "cell_type": "markdown",
      "metadata": {
        "id": "U7h2IX8NGuz8",
        "colab_type": "text"
      },
      "source": [
        "# Writing our own Transform Class"
      ]
    },
    {
      "cell_type": "code",
      "metadata": {
        "id": "edZm6vr5E9dM",
        "colab_type": "code",
        "colab": {}
      },
      "source": [
        "\n",
        "class Dataset(Dataset):\n",
        "  def __init__(self,transform =None):\n",
        "    # data loading\n",
        "    xy = np.loadtxt('/content/sample_data/california_housing_train.csv',delimiter = ',',dtype= np.float32,skiprows =1)\n",
        "    self.x = xy[:,:8]\n",
        "    self.y = xy[:,[8]]  # n_samples,1\n",
        "    self.n_samples = xy.shape[0]\n",
        "\n",
        "    self.transform = transform\n",
        "  \n",
        "  def __getitem__(self, index):\n",
        "    # dataset[0]\n",
        "    sample = self.x[index],self.y[index]\n",
        "    if self.transform:\n",
        "      sample = self.transform(sample)\n",
        "    \n",
        "    return sample\n",
        "  \n",
        "  def __len__(self):\n",
        "    # len(dataset)\n",
        "    return self.n_samples"
      ],
      "execution_count": 22,
      "outputs": []
    },
    {
      "cell_type": "code",
      "metadata": {
        "id": "v-RWgGdyF2_k",
        "colab_type": "code",
        "colab": {}
      },
      "source": [
        "class ToTensor:\n",
        "  def __call__(self,sample):\n",
        "    inputs,labels = sample\n",
        "    return torch.from_numpy(inputs),torch.from_numpy(labels)"
      ],
      "execution_count": 23,
      "outputs": []
    },
    {
      "cell_type": "code",
      "metadata": {
        "id": "zbqL8qpKGRSW",
        "colab_type": "code",
        "colab": {}
      },
      "source": [
        "dataset = Dataset(transform = ToTensor())"
      ],
      "execution_count": 25,
      "outputs": []
    },
    {
      "cell_type": "code",
      "metadata": {
        "id": "9LonCm9IGXZK",
        "colab_type": "code",
        "colab": {
          "base_uri": "https://localhost:8080/",
          "height": 68
        },
        "outputId": "fa50ab09-3fed-4740-f39b-e7aaca80ec3f"
      },
      "source": [
        "first_data = dataset[0]\n",
        "features, labels = first_data\n",
        "print(features)\n",
        "print(type(features),type(labels))"
      ],
      "execution_count": 36,
      "outputs": [
        {
          "output_type": "stream",
          "text": [
            "tensor([-1.1431e+02,  3.4190e+01,  1.5000e+01,  5.6120e+03,  1.2830e+03,\n",
            "         1.0150e+03,  4.7200e+02,  1.4936e+00])\n",
            "<class 'torch.Tensor'> <class 'torch.Tensor'>\n"
          ],
          "name": "stdout"
        }
      ]
    },
    {
      "cell_type": "code",
      "metadata": {
        "id": "qR0PakjiGot7",
        "colab_type": "code",
        "colab": {}
      },
      "source": [
        "# One more custom Transform Class\n",
        "class MulTransform:\n",
        "  def __init__(self,factor):\n",
        "    self.factor = factor\n",
        "  \n",
        "  def __call__(self,sample):\n",
        "    inputs,targets = sample\n",
        "    inputs == self.factor\n",
        "    return inputs, targets"
      ],
      "execution_count": 32,
      "outputs": []
    },
    {
      "cell_type": "code",
      "metadata": {
        "id": "Yyw67qxdHTPN",
        "colab_type": "code",
        "colab": {}
      },
      "source": [
        "composed = torchvision.transforms.Compose([ToTensor(),MulTransform(4)])\n",
        "\n",
        "dataset = Dataset(transform = composed)"
      ],
      "execution_count": 37,
      "outputs": []
    },
    {
      "cell_type": "code",
      "metadata": {
        "id": "NqzOLQ7XHrT2",
        "colab_type": "code",
        "colab": {
          "base_uri": "https://localhost:8080/",
          "height": 68
        },
        "outputId": "2ab452d6-9a30-4b59-964c-dfd950664297"
      },
      "source": [
        "first_data = dataset[0]\n",
        "features, labels = first_data\n",
        "print(type(features),type(labels))\n",
        "\n",
        "print(features)"
      ],
      "execution_count": 38,
      "outputs": [
        {
          "output_type": "stream",
          "text": [
            "<class 'torch.Tensor'> <class 'torch.Tensor'>\n",
            "tensor([-1.1431e+02,  3.4190e+01,  1.5000e+01,  5.6120e+03,  1.2830e+03,\n",
            "         1.0150e+03,  4.7200e+02,  1.4936e+00])\n"
          ],
          "name": "stdout"
        }
      ]
    }
  ]
}