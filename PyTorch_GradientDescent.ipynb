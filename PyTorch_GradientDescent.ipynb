{
  "nbformat": 4,
  "nbformat_minor": 0,
  "metadata": {
    "colab": {
      "name": "PyTorch_GradientDescent.ipynb",
      "provenance": [],
      "authorship_tag": "ABX9TyOoyB6uDQMjxhg0/PZjkDar",
      "include_colab_link": true
    },
    "kernelspec": {
      "name": "python3",
      "display_name": "Python 3"
    }
  },
  "cells": [
    {
      "cell_type": "markdown",
      "metadata": {
        "id": "view-in-github",
        "colab_type": "text"
      },
      "source": [
        "<a href=\"https://colab.research.google.com/github/android-kunjapppan/PyTorch-Tutorial/blob/master/PyTorch_GradientDescent.ipynb\" target=\"_parent\"><img src=\"https://colab.research.google.com/assets/colab-badge.svg\" alt=\"Open In Colab\"/></a>"
      ]
    },
    {
      "cell_type": "markdown",
      "metadata": {
        "id": "46I0XSu-okE6",
        "colab_type": "text"
      },
      "source": [
        "# Gradient Descent from Scratch"
      ]
    },
    {
      "cell_type": "code",
      "metadata": {
        "id": "mtHnUTLepPiZ",
        "colab_type": "code",
        "colab": {
          "base_uri": "https://localhost:8080/",
          "height": 218
        },
        "outputId": "5d3ea942-48cf-4527-901c-6e08221ffaee"
      },
      "source": [
        "import numpy as np\n",
        "\n",
        "# f = w * x\n",
        "# f = 2 *x\n",
        "\n",
        "x = np.array([1,2,3,4],dtype =np.float32)\n",
        "y = np.array([2,4,6,8],dtype =np.float32)\n",
        "\n",
        "w =0.0\n",
        "\n",
        "# Model prediction\n",
        "def forward(x):\n",
        "  return w*x\n",
        "\n",
        "# loss =MSE\n",
        "def loss(y,y_pred):\n",
        "  return ((y_pred-y)**2).mean()\n",
        "\n",
        "\n",
        "\n",
        "# Gradients\n",
        "# MSE = 1/N * (w*x - y)**2\n",
        "# dJ/dw = 1/N 2x (w*x - y)\n",
        "\n",
        "def gradient(x,y,y_pred):\n",
        "  return np.dot(2*x,(y_pred-y)).mean()\n",
        "\n",
        "print(f'prediction before training: f(5) = {forward(5):.3f}')\n",
        "\n",
        "\n",
        "# Training\n",
        "lr = 0.01\n",
        "epochs = 10\n",
        "\n",
        "for epoch in range(epochs):\n",
        "  # prediction = forward_pass\n",
        "  y_pred = forward(x)\n",
        "\n",
        "  # loss\n",
        "  l = loss(y,y_pred)\n",
        "\n",
        "  # gradients\n",
        "  dw = gradient(x,y,y_pred)\n",
        "\n",
        "  # update our weights w = w-lr/dw\n",
        "  w -= lr*dw \n",
        "\n",
        "  if epoch %1 ==0:\n",
        "    print(f'epoch {epoch+1}: w= {w:.3f}, loss = {l:.8f}')\n",
        "\n",
        "\n",
        "print(f'prediction after training: f(5) = {forward(5):.3f}')"
      ],
      "execution_count": 16,
      "outputs": [
        {
          "output_type": "stream",
          "text": [
            "prediction before training: f(5) = 0.000\n",
            "epoch 1: w= 1.200, loss = 30.00000000\n",
            "epoch 2: w= 1.680, loss = 4.79999924\n",
            "epoch 3: w= 1.872, loss = 0.76800019\n",
            "epoch 4: w= 1.949, loss = 0.12288000\n",
            "epoch 5: w= 1.980, loss = 0.01966083\n",
            "epoch 6: w= 1.992, loss = 0.00314574\n",
            "epoch 7: w= 1.997, loss = 0.00050331\n",
            "epoch 8: w= 1.999, loss = 0.00008053\n",
            "epoch 9: w= 1.999, loss = 0.00001288\n",
            "epoch 10: w= 2.000, loss = 0.00000206\n",
            "prediction after training: f(5) = 9.999\n"
          ],
          "name": "stdout"
        }
      ]
    },
    {
      "cell_type": "markdown",
      "metadata": {
        "id": "21ttVDxSsjRn",
        "colab_type": "text"
      },
      "source": [
        "# Using Pytorch\n",
        "\n",
        "* # To calculate Gradients we'll do it using backward()"
      ]
    },
    {
      "cell_type": "code",
      "metadata": {
        "id": "pA7f79rWsjJW",
        "colab_type": "code",
        "colab": {
          "base_uri": "https://localhost:8080/",
          "height": 218
        },
        "outputId": "aa9d7709-45c6-466b-d4a6-59e60c2332f3"
      },
      "source": [
        "import torch\n",
        "\n",
        "x = torch.tensor([1,2,3,4],dtype =torch.float32)\n",
        "y = torch.tensor([2,4,6,8],dtype =torch.float32)\n",
        "\n",
        "w = torch.tensor(0.0,dtype = torch.float32,requires_grad=True)\n",
        "\n",
        "\n",
        "# Model prediction\n",
        "def forward(x):\n",
        "  return w*x\n",
        "\n",
        "# loss =MSE\n",
        "def loss(y,y_pred):\n",
        "  return ((y_pred-y)**2).mean()\n",
        "\n",
        "\n",
        "\n",
        "print(f'prediction before training: f(5) = {forward(5):.3f}')\n",
        "\n",
        "\n",
        "# Training\n",
        "lr = 0.01\n",
        "epochs = 10\n",
        "\n",
        "for epoch in range(epochs):\n",
        "  # prediction = forward_pass\n",
        "  y_pred = forward(x)\n",
        "\n",
        "  # loss\n",
        "  l = loss(y,y_pred)\n",
        "\n",
        "  # gradients = backward pass\n",
        "  l.backward() # dl/dw\n",
        "\n",
        "  # update our weights \n",
        "  with torch.no_grad():\n",
        "    w -= lr* w.grad\n",
        "  \n",
        "  # Zero Gradients\n",
        "  w.grad.zero_()\n",
        "\n",
        "\n",
        "  if epoch %1 ==0:\n",
        "    print(f'epoch {epoch+1}: w= {w:.3f}, loss = {l:.8f}')\n",
        "\n",
        "\n",
        "print(f'prediction after training: f(5) = {forward(5):.3f}')\n"
      ],
      "execution_count": 18,
      "outputs": [
        {
          "output_type": "stream",
          "text": [
            "prediction before training: f(5) = 0.000\n",
            "epoch 1: w= 0.300, loss = 30.00000000\n",
            "epoch 2: w= 0.555, loss = 21.67499924\n",
            "epoch 3: w= 0.772, loss = 15.66018772\n",
            "epoch 4: w= 0.956, loss = 11.31448650\n",
            "epoch 5: w= 1.113, loss = 8.17471695\n",
            "epoch 6: w= 1.246, loss = 5.90623236\n",
            "epoch 7: w= 1.359, loss = 4.26725292\n",
            "epoch 8: w= 1.455, loss = 3.08308983\n",
            "epoch 9: w= 1.537, loss = 2.22753215\n",
            "epoch 10: w= 1.606, loss = 1.60939169\n",
            "prediction after training: f(5) = 8.031\n"
          ],
          "name": "stdout"
        }
      ]
    },
    {
      "cell_type": "markdown",
      "metadata": {
        "id": "C8lcpKKkuDwl",
        "colab_type": "text"
      },
      "source": [
        "# In the pytorch, the gradient descent is not a just a numerical function as we have done using numpy package"
      ]
    }
  ]
}