{
  "nbformat": 4,
  "nbformat_minor": 0,
  "metadata": {
    "colab": {
      "name": "PyTorch_LinearRegression.ipynb",
      "provenance": [],
      "authorship_tag": "ABX9TyMCAiXeB20RLoSeTBFXTN3o",
      "include_colab_link": true
    },
    "kernelspec": {
      "name": "python3",
      "display_name": "Python 3"
    }
  },
  "cells": [
    {
      "cell_type": "markdown",
      "metadata": {
        "id": "view-in-github",
        "colab_type": "text"
      },
      "source": [
        "<a href=\"https://colab.research.google.com/github/android-kunjapppan/PyTorch-Tutorial/blob/master/PyTorch_LinearRegression.ipynb\" target=\"_parent\"><img src=\"https://colab.research.google.com/assets/colab-badge.svg\" alt=\"Open In Colab\"/></a>"
      ]
    },
    {
      "cell_type": "code",
      "metadata": {
        "id": "3wG3LhZB3pVN",
        "colab_type": "code",
        "colab": {}
      },
      "source": [
        "import torch\n",
        "import torch.nn as nn\n",
        "import numpy as np\n",
        "from sklearn import datasets\n",
        "import matplotlib.pyplot as plt\n"
      ],
      "execution_count": 29,
      "outputs": []
    },
    {
      "cell_type": "markdown",
      "metadata": {
        "id": "GawumLGi33Rf",
        "colab_type": "text"
      },
      "source": [
        "# 1. Prepare Data"
      ]
    },
    {
      "cell_type": "code",
      "metadata": {
        "id": "WvxzpSJy32u_",
        "colab_type": "code",
        "colab": {
          "base_uri": "https://localhost:8080/",
          "height": 50
        },
        "outputId": "b74809c1-fb0d-419b-8c71-0be569c11d37"
      },
      "source": [
        "x_numpy, y_numpy = datasets.make_regression(n_samples=100, n_features=1,noise=20, random_state=1)\n",
        "\n",
        "# Converting into torch tensor\n",
        "x = torch.from_numpy(x_numpy.astype(np.float32))\n",
        "y = torch.from_numpy(y_numpy.astype(np.float32))\n",
        "print(y.shape)\n",
        "\n",
        "# Reshaping y, making it a coloumn vector\n",
        "y = y.view(y.shape[0],1)\n",
        "print(y.shape)\n",
        "\n",
        "n_samples,n_features=x.shape"
      ],
      "execution_count": 30,
      "outputs": [
        {
          "output_type": "stream",
          "text": [
            "torch.Size([100])\n",
            "torch.Size([100, 1])\n"
          ],
          "name": "stdout"
        }
      ]
    },
    {
      "cell_type": "markdown",
      "metadata": {
        "id": "ygKWacaN4vOO",
        "colab_type": "text"
      },
      "source": [
        "# 2. Model"
      ]
    },
    {
      "cell_type": "code",
      "metadata": {
        "id": "1XctnE__4tpI",
        "colab_type": "code",
        "colab": {}
      },
      "source": [
        "input_size = n_features\n",
        "output_size = 1\n",
        "\n",
        "model = nn.Linear(input_size,output_size)"
      ],
      "execution_count": 32,
      "outputs": []
    },
    {
      "cell_type": "markdown",
      "metadata": {
        "id": "aRRdphkY48ob",
        "colab_type": "text"
      },
      "source": [
        "# 3. Loss and Optimizer"
      ]
    },
    {
      "cell_type": "code",
      "metadata": {
        "id": "a87NQ1vt457S",
        "colab_type": "code",
        "colab": {}
      },
      "source": [
        "learning_rate=0.01\n",
        "criterion = nn.MSELoss()\n",
        "optimizer = torch.optim.SGD(model.parameters(),lr = learning_rate)"
      ],
      "execution_count": 33,
      "outputs": []
    },
    {
      "cell_type": "markdown",
      "metadata": {
        "id": "v3TuHTlz5O77",
        "colab_type": "text"
      },
      "source": [
        "# 4. Training Loop"
      ]
    },
    {
      "cell_type": "code",
      "metadata": {
        "id": "vX-zqBRr5OhA",
        "colab_type": "code",
        "colab": {
          "base_uri": "https://localhost:8080/",
          "height": 185
        },
        "outputId": "9cd90569-9df9-4366-d269-c786bee99173"
      },
      "source": [
        "epochs =100\n",
        "for epoch in range(epochs):\n",
        "  # Forward Pass\n",
        "  y_pred = model(x)\n",
        "  loss = criterion(y, y_pred)\n",
        "\n",
        "  # backward pass\n",
        "  loss.backward()\n",
        "\n",
        "  # Update\n",
        "  optimizer.step()\n",
        "\n",
        "  # setting grads to zero after each epoch\n",
        "  optimizer.zero_grad()\n",
        "\n",
        "  if (epoch+1)%10 ==0:\n",
        "    print(f'epoch : {epoch+1}, loss:{loss.item():.4f}')"
      ],
      "execution_count": 39,
      "outputs": [
        {
          "output_type": "stream",
          "text": [
            "epoch : 10, loss:1914.1488\n",
            "epoch : 20, loss:1482.3723\n",
            "epoch : 30, loss:1169.0594\n",
            "epoch : 40, loss:941.5142\n",
            "epoch : 50, loss:776.1284\n",
            "epoch : 60, loss:655.8356\n",
            "epoch : 70, loss:568.2826\n",
            "epoch : 80, loss:504.5201\n",
            "epoch : 90, loss:458.0576\n",
            "epoch : 100, loss:424.1841\n"
          ],
          "name": "stdout"
        }
      ]
    },
    {
      "cell_type": "code",
      "metadata": {
        "id": "37CM5DCD6Bio",
        "colab_type": "code",
        "colab": {
          "base_uri": "https://localhost:8080/",
          "height": 265
        },
        "outputId": "92aed538-3fb0-4509-a767-87ce9e36a9a0"
      },
      "source": [
        "# Plotting\n",
        "# preveting this predict doesnt come in our computational graph\n",
        "predicted = model(x).detach() # this will generate a new tensor where our gradient calculating attributes are set to False\n",
        "\n",
        "plt.plot(x_numpy,y_numpy,'ro')\n",
        "\n",
        "plt.plot(x_numpy,predicted,'b')\n",
        "plt.show()"
      ],
      "execution_count": 40,
      "outputs": [
        {
          "output_type": "display_data",
          "data": {
            "image/png": "[encoded data removed]",
            "text/plain": [
              "<Figure size 432x288 with 1 Axes>"
            ]
          },
          "metadata": {
            "tags": [],
            "needs_background": "light"
          }
        }
      ]
    }
  ]
}