{
  "nbformat": 4,
  "nbformat_minor": 0,
  "metadata": {
    "colab": {
      "name": "PyTorch_LogisticRegression.ipynb",
      "provenance": [],
      "authorship_tag": "ABX9TyNuUNs17k8OhFBHhF5ELNgD",
      "include_colab_link": true
    },
    "kernelspec": {
      "name": "python3",
      "display_name": "Python 3"
    }
  },
  "cells": [
    {
      "cell_type": "markdown",
      "metadata": {
        "id": "view-in-github",
        "colab_type": "text"
      },
      "source": [
        "<a href=\"https://colab.research.google.com/github/android-kunjapppan/PyTorch-Tutorial/blob/master/PyTorch_LogisticRegression.ipynb\" target=\"_parent\"><img src=\"https://colab.research.google.com/assets/colab-badge.svg\" alt=\"Open In Colab\"/></a>"
      ]
    },
    {
      "cell_type": "code",
      "metadata": {
        "id": "3wG3LhZB3pVN",
        "colab_type": "code",
        "colab": {}
      },
      "source": [
        "import torch\n",
        "import torch.nn as nn\n",
        "import numpy as np\n",
        "from sklearn import datasets\n",
        "from sklearn.preprocessing import StandardScaler\n",
        "from sklearn.model_selection import train_test_split\n",
        "import matplotlib.pyplot as plt"
      ],
      "execution_count": 41,
      "outputs": []
    },
    {
      "cell_type": "markdown",
      "metadata": {
        "id": "GawumLGi33Rf",
        "colab_type": "text"
      },
      "source": [
        "# 1. Prepare Data"
      ]
    },
    {
      "cell_type": "code",
      "metadata": {
        "id": "WvxzpSJy32u_",
        "colab_type": "code",
        "colab": {}
      },
      "source": [
        "bc = datasets.load_breast_cancer()\n",
        "x,y = bc.data, bc.target\n",
        "\n",
        "n_samples,n_features = x.shape\n",
        "\n",
        "x_train, x_test, y_train, y_test = train_test_split(x,y,test_size = 0.2, random_state = 1234)\n",
        "\n",
        "\n",
        "# Scaling\n",
        "sc = StandardScaler()\n",
        "x_train = sc.fit_transform(x_train)\n",
        "x_test = sc.transform(x_test)\n",
        "\n",
        "\n",
        "x_train = torch.from_numpy(x_train.astype(np.float32))\n",
        "x_test = torch.from_numpy(x_test.astype(np.float32))\n",
        "y_train = torch.from_numpy(y_train.astype(np.float32))\n",
        "y_test = torch.from_numpy(y_test.astype(np.float32))\n",
        "\n",
        "\n",
        "# Reshaping y \n",
        "y_train = y_train.view(y_train.shape[0],1)\n",
        "y_test = y_test.view(y_test.shape[0],1)"
      ],
      "execution_count": 43,
      "outputs": []
    },
    {
      "cell_type": "markdown",
      "metadata": {
        "id": "ygKWacaN4vOO",
        "colab_type": "text"
      },
      "source": [
        "# 2. Model\n",
        "    f = wx + b, sigmoid at the END"
      ]
    },
    {
      "cell_type": "code",
      "metadata": {
        "id": "1XctnE__4tpI",
        "colab_type": "code",
        "colab": {}
      },
      "source": [
        "class LogisticRegressor(nn.Module):\n",
        "\n",
        "  def __init__(self, n_input_features):\n",
        "    super(LogisticRegressor,self).__init__()\n",
        "    self.linear = nn.Linear(n_input_features,1)\n",
        "  \n",
        "  def forward(self,x):\n",
        "    y_pred = torch.sigmoid(self.linear(x))\n",
        "    return y_pred\n",
        "\n",
        "\n",
        "model = LogisticRegressor(n_features)"
      ],
      "execution_count": 44,
      "outputs": []
    },
    {
      "cell_type": "markdown",
      "metadata": {
        "id": "aRRdphkY48ob",
        "colab_type": "text"
      },
      "source": [
        "# 3. Loss and Optimizer"
      ]
    },
    {
      "cell_type": "code",
      "metadata": {
        "id": "a87NQ1vt457S",
        "colab_type": "code",
        "colab": {}
      },
      "source": [
        "learning_rate=0.01\n",
        "criterion = nn.BCELoss()\n",
        "optimizer = torch.optim.SGD(model.parameters(),lr = learning_rate)"
      ],
      "execution_count": 49,
      "outputs": []
    },
    {
      "cell_type": "markdown",
      "metadata": {
        "id": "v3TuHTlz5O77",
        "colab_type": "text"
      },
      "source": [
        "# 4. Training Loop"
      ]
    },
    {
      "cell_type": "code",
      "metadata": {
        "id": "vX-zqBRr5OhA",
        "colab_type": "code",
        "colab": {
          "base_uri": "https://localhost:8080/",
          "height": 185
        },
        "outputId": "43adf0a6-9184-4734-dbb1-24a46b2bdb4f"
      },
      "source": [
        "epochs =100\n",
        "for epoch in range(epochs):\n",
        "  # Forward Pass\n",
        "  y_pred = model(x_train)\n",
        "\n",
        "  # loss calculation\n",
        "  loss = criterion(y_pred, y_train)\n",
        "\n",
        "  # backward pass\n",
        "  loss.backward()\n",
        "\n",
        "  # Update\n",
        "  optimizer.step()\n",
        "\n",
        "  # setting grads to zero after each epoch\n",
        "  optimizer.zero_grad()\n",
        "\n",
        "  if (epoch+1)%10 ==0:\n",
        "    print(f'epoch : {epoch+1}, loss:{loss.item():.4f}')"
      ],
      "execution_count": 50,
      "outputs": [
        {
          "output_type": "stream",
          "text": [
            "epoch : 10, loss:0.2532\n",
            "epoch : 20, loss:0.2424\n",
            "epoch : 30, loss:0.2328\n",
            "epoch : 40, loss:0.2241\n",
            "epoch : 50, loss:0.2163\n",
            "epoch : 60, loss:0.2091\n",
            "epoch : 70, loss:0.2026\n",
            "epoch : 80, loss:0.1966\n",
            "epoch : 90, loss:0.1911\n",
            "epoch : 100, loss:0.1860\n"
          ],
          "name": "stdout"
        }
      ]
    },
    {
      "cell_type": "markdown",
      "metadata": {
        "id": "c6CpZv_i-Tw6",
        "colab_type": "text"
      },
      "source": [
        "# 5. Evaluating the MOdel"
      ]
    },
    {
      "cell_type": "code",
      "metadata": {
        "id": "AubRjGVx-QcD",
        "colab_type": "code",
        "colab": {
          "base_uri": "https://localhost:8080/",
          "height": 34
        },
        "outputId": "553aa6d5-c796-4c33-e5d4-049b7f7378af"
      },
      "source": [
        "with torch.no_grad():\n",
        "  y_pred = model(x_test)\n",
        "  y_pred_cls = y_pred.round()\n",
        "\n",
        "  acc = y_pred_cls.eq(y_test).sum()/float(y_test.shape[0])\n",
        "  print('accuracy',acc.item())"
      ],
      "execution_count": 51,
      "outputs": [
        {
          "output_type": "stream",
          "text": [
            "accuracy 0.9210526347160339\n"
          ],
          "name": "stdout"
        }
      ]
    }
  ]
}