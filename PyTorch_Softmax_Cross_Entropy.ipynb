{
  "nbformat": 4,
  "nbformat_minor": 0,
  "metadata": {
    "colab": {
      "name": "PyTorch_Softmax_Cross-Entropy.ipynb",
      "provenance": [],
      "authorship_tag": "ABX9TyOGx8gRDHM4WwPg2zQQ1gaa",
      "include_colab_link": true
    },
    "kernelspec": {
      "name": "python3",
      "display_name": "Python 3"
    }
  },
  "cells": [
    {
      "cell_type": "markdown",
      "metadata": {
        "id": "view-in-github",
        "colab_type": "text"
      },
      "source": [
        "<a href=\"https://colab.research.google.com/github/android-kunjapppan/PyTorch-Tutorial/blob/master/PyTorch_Softmax_Cross_Entropy.ipynb\" target=\"_parent\"><img src=\"https://colab.research.google.com/assets/colab-badge.svg\" alt=\"Open In Colab\"/></a>"
      ]
    },
    {
      "cell_type": "markdown",
      "metadata": {
        "id": "J_fikkv5PLjd",
        "colab_type": "text"
      },
      "source": [
        "# Softmax:\n",
        "\n",
        "![Softmax Function](data:image/png;base64,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)\n",
        "\n",
        "\n",
        "\n",
        "* Splashes the o/p to be between 0 - 1\n",
        "* It shows the probabilities of the outputs\n",
        "* Sum of these probs will give us 1"
      ]
    },
    {
      "cell_type": "code",
      "metadata": {
        "id": "UVTN3_ANPmWI",
        "colab_type": "code",
        "colab": {
          "base_uri": "https://localhost:8080/",
          "height": 34
        },
        "outputId": "2cf56b89-a4a2-4ab2-92c6-444542ada38d"
      },
      "source": [
        "import numpy as np\n",
        "import torch\n",
        "\n",
        "def softmax(x):\n",
        "  return np.exp(x)/np.sum(np.exp(x),axis = 0)\n",
        "\n",
        "x = np.array([2.0,1.0,0.1])\n",
        "outputs = softmax(x)\n",
        "print('softmax numpy:',outputs)"
      ],
      "execution_count": 41,
      "outputs": [
        {
          "output_type": "stream",
          "text": [
            "softmax numpy: [0.65900114 0.24243297 0.09856589]\n"
          ],
          "name": "stdout"
        }
      ]
    },
    {
      "cell_type": "code",
      "metadata": {
        "id": "81cvnn0ASp06",
        "colab_type": "code",
        "colab": {
          "base_uri": "https://localhost:8080/",
          "height": 34
        },
        "outputId": "4bb73d3c-36de-49fb-da46-b8070320ec40"
      },
      "source": [
        "# Using Pytorch\n",
        "x= torch.tensor([2.0,1.0,0.1])\n",
        "outputs = torch.softmax(x,dim =0)\n",
        "print('softmax torch:',outputs)"
      ],
      "execution_count": 42,
      "outputs": [
        {
          "output_type": "stream",
          "text": [
            "softmax torch: tensor([0.6590, 0.2424, 0.0986])\n"
          ],
          "name": "stdout"
        }
      ]
    },
    {
      "cell_type": "markdown",
      "metadata": {
        "id": "v9KbwgStTZzj",
        "colab_type": "text"
      },
      "source": [
        "# Cross-Entropy Loss:\n",
        "* Measures the performance of a classification Model\n",
        "* USed in Multi Class Problems\n",
        "* Should not use **Softmax** at the end\n",
        "* Better our prediction the lower the loss\n",
        "* Bad Prediction --> High Loss\n",
        "* The Label must be One-Hot Encoded\n",
        "\n",
        "\n",
        "![Cross Entropy Loss](data:image/png;base64,iVBORw0KGgoAAAANSUhEUgAAAWoAAACLCAMAAAB/aSNCAAABC1BMVEX////P4/PZ69PmuK4AAADS5vdfY2Swr67Tp5/t7OyUpLFGT1f09PTY69LV6vqXp7S4t7jZ6NWGkoKjoqFOS0n4+Pjd3d1HUETtvrTx8fGoqKi9vb17e3vj4+OOnamGhYTMzMzW1tbGxsZ7X1hra2soFxSXl5c3NjcuLi6tvsxwcHCBgoHh9NuUlJRXV1f0w7mlhH3dsaizwq7f9P9PT094gorEnZWae3Wyj4iJbWfJ2MQSExOcqZg9Qjs0NDQhISG3yNaDkJpgaXBdZm1uU01BNTJgTUkyKShUREBiaWBARUl9h3lVWlQnKyRsd4ERCxJueGoeFxUWExk4LiuruaalsaIpLjQzNjAmHhwby+BfAAAWaElEQVR4nO1dC3uiyBJtk/ZBogTXwFWRCMTFt4kZ42OcieadcfdmN3dms/n/v+R2dQMCQjQZ1GTimfkMiEBzKE5XV1c3CG2wwQZvHMUO0lW6ZIjrLcmvDq6MUIctavX1FiUciIFYd8lK2BAySOtMMghNcusuzc9Dxv8JwNfYmovGdVBJQh0NNUVUVNdcmBAg/NYIwh+19RZN6aByEqmVsoBQJr/esoQBQvVWABrfigsfRo2HB8k8JqG6wyEZ5SoSagrLufxV4hmqtxp/ZhY7SK5yebATFg52W6yaUMqoKKBiK3OWRB3l/Zv1c1RvNb4uZkyVKs9HwwLP75h+B4cUUl9IOrmXLfT+zfpZqre2/qsvcox7PhIm+F3NOnSBqUlRQ6VlMbAyEKpTW+mtFP2fTm2Zf8gq43qozT9GsRoNlerowVQtOOvzl6Ca0kqZNemFVcI4Xfz8lzT3GOFT7VNHNJdw8auFV0BSHgUhXHM+u2myo4WzEqrfPxjVYMJpyjL9ZBbNPhsnf822G/MlASfttSCqo3zUsbyhGrSaKrRtz7CYdrghJ5UZro2SNmU6iOro3oG9ITo+31ANWj0LS6sp1/9MZnaTS0PFXgmg+uzydLJLtkRhKz6tXvB0ma5G4TNIdoKo5jKlWKgoLlDnhwcqIGmrPkxvuXhPsQ2NLy3PXgUZ1exWnT/V0erjJ54/G0cje1WyMoyc75Jvq1V+vAdGvkf2GZO/4wWoVtgT1Py9102Eiv5dJ4lWBko1mLCDY4tw6w5szYRDuNh+EanWWoBVE0MG463cX1Qi9/j88rF6Orov715e7vKnk/PKKT/aiWB/qt1NQwMXyLmKV9nsdrjIZvuVFXBsIqgJ41aVxt+F2V3tr0q+VPPjiyE+5c/vef7iPDL6tHfx6fT+U7XMR4aRgyi/N+HHw8me357RHXxWmeJshDEexa/DJpqS3VtdJHyGalukXW5f49usX8sKqRTxrS/V4zFxQCp79wd89OA+MuL3LvnTc766C1TvVcq7uzx/P/SvTz0C0sQlHZW6S2CacP20Mgkxq8WU5XVMCTZFxdLr/bh3V7Dq3ATjVtNXq88Jl5/uD8Cq78+BamLVFtV4/Kk64auPF6d+PuCMVkO/wMNSmN7OXq2sajSdvbQlzFOXOuViPrX1r+zZlbogRYyVAK0ul+93K5HI8PR+FBljvop3Tk95wnAEk+/OHytRXIX/86mm+N1FUPY53c4+v9n920N1+SQz2ALibSY6XRCG//oUSt4vlgL96uoBOBuRnT3yQWrIanU8hoVINRIhW6pj8t34dVQPvl8fB5KZuCG4s/Rmju6smmpLntOOCjFtibat3anZcEhmn2hIcGuRutCmI22tRs3lSDRi+dwvpvr2MNEdDajtMvuln5Ypdx+63W6/zUy7+/1o297I9oDfr9Wqzda506S9Nv4ZK+6dCyzctpIYyJTqbO+a0Jc4PBr0brb7N1eJ7PbhzYB8fXOYoFTfHgGl3ePBTT97Nez1j2+67cOb42yb7HCcPe5ns73u+qh2t13S0wWX0/f5f66O65bplaya6qsBs2R81e8/Jfq4fTjYvur1r7eP78Buu8NerzfI9nG/i9v97+0BPk48Hbeve23ca9/2+9dkz/aaqE7PULzl1OipljRORtNwiHhm+STLjFfbcFLdo1Qf4cQRsdKjq+PeUy9x1MWDbrbd73fJAkG2f3OUvU10r48GgyMw9O5tGx/Bt4T/m+xaqPbohcPxcEk34/qH3bpSRnYZ42H3wlz6OGAOqgfAVPsqixPZO6IGh72j7hUeHCUGt3eJu7sBExBCatakupftkvZP4qH9RKi+I+t307pyLR5I+suXz42tzycgFCeNk8/kK/hwo/HFyjcaOurI0Ti8rsUoaUju+xTUUS22MSH46o5YNWX9oXvVP+pf9wdHRBhAQG6pzZpUfydWnU3g9tHgpk023/SyiYfvC1WLYeccgV8NjZXUCf77D/xb4ws+SW19+db4Wm5sNSonM3LS+I1m4sgjZyOLG13shYady32/i3RQne0+YXyznX0gteDN7cOAqPP3p+729e0DVZYuBvSA6u+J7eFdr5fNHg+/X7fb+PqW3Jqj68EiVNeDNvwE1Uwu8EmjsYW3vgwrxHS/Nf6D/2g0/j1JObTFbDb+QVqJRsdzGD2fCQt5/0t0N2Fsf81aYl6cj6+dnf4sgY/owm3CsTmI6uRZKWSztgTkR6XBBOLbtzpQ/fUf/Nmm2q0h34zmGvpUf59l8aVIYGb0h447AlSrdb8kk1LY6RCmB5L68qdF9Rb+DFSf/DMkVM8yTX6Dz0IuxCIIgWqLcaftZwcljH0tBwK3ocKy6pMKCMUJyPSPEaW68edvX08c3ofN9N+G4e0qQCIXHvwLGh7VLhCrVmpnolibqQaXRjXV6jQ16Ma34d9A9RbGJ9OYqhWHot0E8Yo7Cbc5muyGhcloJoa4GNWvimdTreYgsSjpse1iXQs36GfFQIgH8o16ICAk+Fvj3x9bjX/wiVUpQpWYdnggGnYWo3TPh4jopV/Ox1yqs7f911JtwZUYmIxLAQ/Yz1BN8XnWr/7x2a0fqalfzY2mtYa2G24TJvroc43zqb7us0hSG7yMNlnItttzLd1FteiO8ejesPFPUz3tQvSrBB1Nx1S68ePR3rNj217Rt9vq9eDPfSRkQaqzxw+3d9vbd7cPx9nB09PNi6gmaDpW9UUSFl9EtT/BFtJmHxgQ7oqBoLpVOa443BRM9TY4dKRdeEWa4+3DLCwm5u0161fbl6iumOpUKp2ywiOf/3LVhvly8m1RTTSjf0eaKsPt64erRPYQ3/XnKcgs1eKyGg1zqbbjUGnCtCderbIA9luhugtBpmuI4W23Ez3cTrT7D8GdNYFWvSyYTZi0D7kpF9PkN7MJwNxIJk9ZUIdXZBx5VX35WqoHx8fH2/g4cd3rPyW6wzbut7/P80p8qa6F63qYcFs1DTylqWSkrX6BtBX98OtbFFu4EkB1tDp6GF5EIhV/kx/Rn3QW6TGnmO9X9waDw8F24vDuOJs9vrvpZrs3d/OM2p/q5YwjdFJtm3bK3TVA1WO2xxyQHGEc901OiETwmOcn5/wYMlJ5PkIcZvgXpauRCP16XA6RarOj3NHPuEDHeYCACEuw6wW0mpLf+Oo/7ketYVzzp3q4R/RjHClHx4/lWPnT5cXj404ZV/m9UbkTiTxGx6Py7sSfave59LKQRE/teay9CgF5INoShqQyrU7bXS7O9oqZdgNf+WU3mUjKlQABGeLdPT4y4st7/AH+NDnl7yf83gSs/fQiMow+VvlTf6p39usFB1oY49LZr5DdNOtqpFlvgSPv1y9nz0ZAtcjz450R5DVhUkMSqqv8wSlf3a3uEuEYRYcRTP4GWHVRU6fQDMK0rK44Z68Uul37arUXcwbm+if9jh+JJo8rjOrxlGpCb3RcYVRXFxIQLQOW90tkolqDMiBxz4fvtB34CECAVY8uqtXJeWTI31+OW8NPZUL1PSSS4b3I7mkERy9PI5cBVPumsjd/P15pfnXYZm2OhbG0w2nhaTO1vfGl/Pwxgpowp5PdAz5yH+UPLvcePp2O+b0dfnzKjy+JXxK5j0TuJ+fnL6AacUa4gwZi9eeipJLxelZ9MeuBePLafcfCuBFENQRE4ZNIx/klz8ZmgJ9HvqfZZDCE12+/X3csjLNK9MEJnufRz2mYR8e7lYvnfvBWqZ4/YvNFsLKbbDfPpdVkxX/cogvzYiBRasbvjmpx8YkjFoJLQFKO7GpTRt7MaNz3j1lnL+30Q3xCTLMwDkJOJLsPt/vjtRBD7/Dyk2nrO9/AhxfcKHAI4msQHQ/N42r21XLrmLtJCvfhMsfCpGfqRhDvxlffzuvZg4yqIVK9N1TpUcVhE9XMCHluJh3i/cEhIClHKIS5eYvOcoOU2n54KJiWLJQ5qYCQLIBF/wLzZDnGwtB2TGo6euAlczctA/mKVtRR3RCg8aytKHfNqJU0JJVqkJhYwjriSjXIeymVFnu+n4M9I1n6Lc5I1uFQoaZC41mc02INC5IkJZFIPsn5JSVnLnKSxP303ZZxOQCjdc+zxyZ/Q3ptCAqyirhQTX12s/FceHMBJAPxc8f9eSj7qKahlobKkga8Lx3cvCfHL8X+lwBnILmJlFIrjlSUX8Hkb8L7n7ToJ2DaUQ3NTkkSPnJL6Sh/L9BU+qeghJto5I/8vLBpZhWlWDNW4+nF51HdfBsBg5ciLujywkaymidbmFcfFN8l1ZBAVFTm/25d0PNx4l8LgiwLU35DTrheDejoB2Xts5EHIVmJ5YtYStbqo1ZhvW3mn8aK2n4vg2wLSAncPh3acCWnZrxLq6ZO3EqnXlsA02oR2zFb15C6d6nVTR3l3tw0yQ6qRQg5gXK4qH6fHogqvzWbhviStYQ5lFTloeih+iP41atGHRx5Dnup3iAsOBrmJVyIYaglWz8fp95gFs6GOSer1BVVnAHOdyYgQqxWKzHEWrFYTF13gab41RrmuSGeZpZomdEbigH/cg1zFZ85W4m1F3kioufvkoatBEBbdxNGisdVmt+mKRrB3MBGEbs6LV31jmJ4k6lEczt9R13OMis7qCqv++pXiQLhQilAGoOMNUUS5k8WMsGzHpT17Ma8Rp5hdlvUoHNg2k0St+5oiD0n6jwBkdYbtNmn3NTBGCUa2ZjvHXEYe20xaXUdentrOZNKemjVoZVWl2qIA8G5eV3Fw7VS3WRU5KEQGQPmpF1Ae2Xs6b+S8mYaE0ezmET7bTAow75n2U0F0f4e1U0vLMx80frzLkhxrTG+pONFGqgjcHlTasXnp6wpYHeppZgpCAJcbEbWyGbN4Oo6YhkSXKEFmkM7Y7h8Dm5v3rqlYeZQcKQSUMmBVVXPIY4uaqpOWum6qpJyhXiml0MdOVawrloVniLIDAH7nWH3c98BeyX3paCxF/7VFJEYfkxBZq5enh6IikZRQ7ACk3Xk4D6HmxikFot5sN+6gqR6kZBrFOsa4urF5rqD63l2oTRRVNuHuKhft7NWqAMKU21RsCuvI0fXdCrJIiaLE8WAd4cii2r6Lq8cPZmGz2AFqKbO10/mwbwbaIwKanMZqnTsNUiaYU6aF7Rj2eUT6gYxaWKiSgmJIMvcBJU0WLOoZjcGWJUUdlJZR+ydsu//5V4LYgKGpVOF7oDRLvhexJK78szonJbUC0g1CIGEyJoEOgEeJLNZ00EBWSbfK+DkNBWkU5Y/DNWonpdpMyKZaWXi+abvJJuzO3k8wpygIlElNV+c3AJJpoPpBa1FLF9WYbvGalGDfC/q7IXbBagsEc2B+jB4RXKff8ZWQfEMDaC+NCXZnLwzN/UBOLIY1xVHW2YDH6iuZ161FuKq41u5iZrU9GUJ5TOWa5i3bwbYsi6I5GFaWjF/AbiTSlX/1iXRCdOVkcmy/eBYzqMdaXlnsbbVItlxyHmyOXcA6gavxn6syFAvxMoYr3lowq8MrdgsWmg2m285mWyDDTZ4AVZbQX3Q6lCTVU7UbBdVXAUNH6qrygZMbztBRYtgSZXfeaLrm0UGwu76tKdKkFYwykf/KMFPF8p2l78AgIjP8q1a+ZAPDjSUc9S/5XK5HCfaCQHLRH7tSRXrgKFaCRYqTeRI1uXlB3Ey8Q/pgqiqK9FF0fW3l/y8wQYbbPDRweGRmfJcanVGuPwhK6wVoYmnnaE5ebjp2lgiJlh1rM1ryLkmoHMEnCXP+gvBObtnnJ3DcFzR/7hzzxYwI+Pc/WYKELSLmM8IcY5Yp5LJCEK8Oe/IHHYm33lS7QreDm6W68HR3tW4cz9o4asLTiWqTDweJcceJj0jQ/ldP6WZY37XQN9o9mx0jBZHO/PsrKnB++kZaMEtWADExYCsCpwl48olDISMZ2eys6YVznvSoQV2zhokCEgusYnDaee0uO10xpbnSs0b2oI09bw7T4Gu+mU0kBLm4h2/q6tb5kJ388Z0DMiRb6n+BQRiM+6UizwXUACRTYNMM/paUA5tfq5GHc+0EA2zKDFPE9rUF9rx7Z4/PknHZqvPnSdpUS16ZmMy86JY+MUzLb0CZRNmHxc2ztR3jIc9xgaSdiRPDyYrov/01Rz9rcdecoZ9NjeKjDW6BdPufb9jenCG3Zci5ium7kDqS06WFfjUJDOfKJkvE+sTKSecqppWCBkeyecS+fVay3xGaMaSBrkcSFIlyXzypDoQxzIWNE21doPLV2ajBXV6YbXZe6DVJ5YCQIpwHI6nqlTfVE1BRVpc3xcNK3VIcpO8BYDr9EukGk1VRRkJTfMXSiZPEZBmr2DvlODUMEQEUzhyMchUhNdbjZDOuFKBKo7e/SItGuzdhMeHSVGcnc0b6ihavMAzI2QgwqcaSKizXVnaL4LoIhzTsHSkYH+4D0Y/fahG8amwFdjsI4aM1AyKC6iZN/fzf6cznaeSpv8ocZS3mAQb8smaVzD9Q1U/byBRRT76Yb6i2VHKOHZfiwbWqWg0txnS5yYwbk8pIDNpmo6XZKHQMvCXg9I1gRuf5HKVnU1mCq1A+n9HROIZTTo9SwLv5pAAquC0WNLIgOwlejZ6GvpkJ80XQ+fsbyyqOXMLPU4rCXZAiapTqZZadArKEfl5ztzPpDpn7meSRA2FZq4pFSNJnl75GaqTLL+cWi+VarbImdnlTHHMrH6nzY3c9k6lWmSlhrznCirnwFpMqgtwHcyqRb3CMZFyWLV5NnbMJDtbzlToGuGQ/EonLMhFSK5u5ZCZK04fpbjEuIPf0Ee5MCXWWfC6k2rROVCBnoYJYIHKL+QfG3GtRjfVnVQj9wAHuidLauMyHasAMX+qWUqtQimlrOfpDRNzDEHCbXii1B0k5dRiEk1ECc7f1IGGDoek/JSTJJyd3AdD1OgwuNqUEvNsnpRHIhYqHdSiNTUq1y0xFwPTNke90OxSmqeuF6kxsyulw+tn64BArSbk6ibVYoHYh4qEONxdckaYb5Pt51stKrQAIOtqgd4TVgC4ppwP1WJNl2AcBxHyiizEZ/xiX8jel9HIEEotwdAUkZyads4IOgyCooUxPQlYVnVIsLblVHtusgGRCgKhOgkPTV4HN05QjaY1fEumFwasirouJ80rFalnM1vJwO0RhZbz1Z/2aUSTalIczoBxHyqMjcprMPgPhuyIQmx2P/Cq6dVBAVRPATTfVrQ1tQXRQ3Gx/m/JNyVcybgthhodVTWN2bZsbeeaEnQtIIQWGDVS8/zEABapQRTZczw1Dnql9Cw+BpN7PnGeUu0tDowleyZ/1VD8CkAD+EY4saGc08tN2o50UnAcnlSE9FklF8iV8uZvLAdIFJJsRZk/g4Zk6I7Dxqh/Q8ceZATzGbUPkovDiYAZyc+m8s/N1q5kSOkV125EQqi8xQN62+JxswCcowAKeUgQ8hzp9XC99iegvcfpOrsySUGq5QXlHIJHCXxxgTSrzaOjnJ3eqzo5pMrhf9y5A0Tdu6lW/1JAKZOyVQBX1+frLswfJUf7Xtv/0NOwLhn1ivXWvdIEzw5L3iA8ZMwGTYY2KDfTFW2wwQYvghjyu8E2CITdn5TLbKY7WyrEqXccMLptg5CgZRSOpqEqZnhlg6WhZr62ZGPVy4bS1HL0TdYcWkEW6seG7YAktQ+Z+LzBBhtssCL8H0ujvYbTj4BHAAAAAElFTkSuQmCC)"
      ]
    },
    {
      "cell_type": "code",
      "metadata": {
        "id": "STCaT_ecTSwi",
        "colab_type": "code",
        "colab": {
          "base_uri": "https://localhost:8080/",
          "height": 51
        },
        "outputId": "14f962e2-0f73-4f9e-f779-1818512c7100"
      },
      "source": [
        "def cross_entropy(actual,pred):\n",
        "  loss = -np.sum(actual*np.log(pred))\n",
        "  return loss\n",
        "\n",
        "Y= np.array([1,0,0])\n",
        "\n",
        "# y_pred has probabilities which are calculated using softmax\n",
        "y_pred_good = np.array([0.7,0.2,0.1])\n",
        "y_pred_bad = np.array([0.1,0.3,0.6])\n",
        "\n",
        "l1 = cross_entropy(Y,y_pred_good)\n",
        "l2 = cross_entropy(Y,y_pred_bad)\n",
        "\n",
        "print('Loss1 numpy',l1)\n",
        "print('Loss2 numpy',l2) # Loss2 will be more as it is a bad prediction"
      ],
      "execution_count": 43,
      "outputs": [
        {
          "output_type": "stream",
          "text": [
            "Loss1 numpy 0.35667494393873245\n",
            "Loss2 numpy 2.3025850929940455\n"
          ],
          "name": "stdout"
        }
      ]
    },
    {
      "cell_type": "code",
      "metadata": {
        "id": "Z-n1mMWWVAh-",
        "colab_type": "code",
        "colab": {
          "base_uri": "https://localhost:8080/",
          "height": 51
        },
        "outputId": "53e794d4-a22a-41f5-fbed-cbb615a69c6c"
      },
      "source": [
        "# Using Pytorch\n",
        "import torch.nn as nn\n",
        "\n",
        "loss = nn.CrossEntropyLoss()\n",
        "\n",
        "Y= torch.tensor([0]) # Not One-hot Encoded\n",
        "\n",
        "# Size will be n_samples x n_classes (for eg., 1x3)\n",
        "y_pred_good = torch.tensor([[2.0,1.0,0.1]])\n",
        "y_pred_bad = torch.tensor([[0.5,2.0,0.3]])\n",
        "\n",
        "l1 = loss(y_pred_good,Y)\n",
        "l2 = loss(y_pred_bad,Y)\n",
        "\n",
        "\n",
        "print(l1.item())\n",
        "print(l2.item())"
      ],
      "execution_count": 45,
      "outputs": [
        {
          "output_type": "stream",
          "text": [
            "0.4170299470424652\n",
            "1.840616226196289\n"
          ],
          "name": "stdout"
        }
      ]
    },
    {
      "cell_type": "code",
      "metadata": {
        "id": "eUNovvU2VKBg",
        "colab_type": "code",
        "colab": {
          "base_uri": "https://localhost:8080/",
          "height": 51
        },
        "outputId": "bf9d9698-e9bb-4f32-f1d9-1fcfe6a15450"
      },
      "source": [
        "# To get the class class labels\n",
        "# _ because we dont want that value\n",
        "_, predictions1 = torch.max(y_pred_good,1)\n",
        "_, predictions2 = torch.max(y_pred_bad,1)\n",
        "\n",
        "print(predictions1)\n",
        "print(predictions2)"
      ],
      "execution_count": 46,
      "outputs": [
        {
          "output_type": "stream",
          "text": [
            "tensor([0])\n",
            "tensor([1])\n"
          ],
          "name": "stdout"
        }
      ]
    },
    {
      "cell_type": "markdown",
      "metadata": {
        "id": "OZTMzapwX0EE",
        "colab_type": "text"
      },
      "source": [
        "# nn.BCELoss\n",
        "\n",
        "* Binary Cross Entropy loss\n",
        "* Here we must use sigmoid function at the end \n",
        "      y = nn.sigmoid(out)"
      ]
    }
  ]
}