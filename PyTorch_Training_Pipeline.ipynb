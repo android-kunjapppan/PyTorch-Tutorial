{
  "nbformat": 4,
  "nbformat_minor": 0,
  "metadata": {
    "colab": {
      "name": "PyTorch_Training_Pipeline.ipynb",
      "provenance": [],
      "authorship_tag": "ABX9TyOkfxvNy5HZUBFP+7jdcgzg",
      "include_colab_link": true
    },
    "kernelspec": {
      "name": "python3",
      "display_name": "Python 3"
    }
  },
  "cells": [
    {
      "cell_type": "markdown",
      "metadata": {
        "id": "view-in-github",
        "colab_type": "text"
      },
      "source": [
        "<a href=\"https://colab.research.google.com/github/android-kunjapppan/PyTorch-Tutorial/blob/master/PyTorch_Training_Pipeline.ipynb\" target=\"_parent\"><img src=\"https://colab.research.google.com/assets/colab-badge.svg\" alt=\"Open In Colab\"/></a>"
      ]
    },
    {
      "cell_type": "markdown",
      "metadata": {
        "id": "zaijdITmub9U",
        "colab_type": "text"
      },
      "source": [
        "# 3 Steps\n",
        "1. Design Model( input_size, output_size,forward pass)\n",
        "2. Construct loss and optimizer\n",
        "3. Training Loop\n",
        "    1. Forward Pass: compute prediction\n",
        "    2. Backward pass: gradients\n",
        "    3. Update weights"
      ]
    },
    {
      "cell_type": "code",
      "metadata": {
        "id": "7SqpUvkAu4vg",
        "colab_type": "code",
        "colab": {
          "base_uri": "https://localhost:8080/",
          "height": 235
        },
        "outputId": "dd989811-36d4-49b7-bf0b-a22fd2dc7839"
      },
      "source": [
        "import torch\n",
        "import torch.nn as nn\n",
        "\n",
        "\n",
        "x = torch.tensor([[1],[2],[3],[4]],dtype =torch.float32)\n",
        "y = torch.tensor([[2],[4],[6],[8]],dtype =torch.float32)\n",
        "\n",
        "x_test = torch.tensor([5],dtype = torch.float32)\n",
        "\n",
        "n_samples,n_features = x.shape\n",
        "print(n_samples,n_features)\n",
        "\n",
        "# Model prediction\n",
        "input_size = n_features\n",
        "output_size = n_features\n",
        "model = nn.Linear(input_size,output_size)\n",
        "\n",
        "print(f'prediction before training: f(5) = {model(x_test).item():.3f}')\n",
        "\n",
        "\n",
        "# Training\n",
        "lr = 0.01\n",
        "epochs = 10\n",
        "\n",
        "loss = nn.MSELoss()\n",
        "optim = torch.optim.SGD(model.parameters(),lr = lr)\n",
        "\n",
        "\n",
        "for epoch in range(epochs):\n",
        "  # prediction = forward_pass\n",
        "  y_pred = model(x)\n",
        "\n",
        "  # loss\n",
        "  l = loss(y,y_pred)\n",
        "\n",
        "  # gradients = backward pass\n",
        "  l.backward() # dl/dw\n",
        "\n",
        "  # update weights\n",
        "  optim.step()\n",
        "\n",
        "  # Zero Gradients\n",
        "  optim.zero_grad()\n",
        "\n",
        "\n",
        "  if epoch %1 ==0:\n",
        "    [w,b] = model.parameters()\n",
        "    print(f'epoch {epoch+1}: w= {w[0][0].item():.3f}, loss = {l:.8f}')\n",
        "\n",
        "\n",
        "print(f'prediction after training: f(5) = {model(x_test).item():.3f}')"
      ],
      "execution_count": 22,
      "outputs": [
        {
          "output_type": "stream",
          "text": [
            "4 1\n",
            "prediction before training: f(5) = 3.863\n",
            "epoch 1: w= 1.052, loss = 12.41667747\n",
            "epoch 2: w= 1.212, loss = 8.61574936\n",
            "epoch 3: w= 1.346, loss = 5.97836447\n",
            "epoch 4: w= 1.457, loss = 4.14833832\n",
            "epoch 5: w= 1.550, loss = 2.87852073\n",
            "epoch 6: w= 1.628, loss = 1.99742174\n",
            "epoch 7: w= 1.692, loss = 1.38604462\n",
            "epoch 8: w= 1.746, loss = 0.96182287\n",
            "epoch 9: w= 1.790, loss = 0.66746426\n",
            "epoch 10: w= 1.827, loss = 0.46321452\n",
            "prediction after training: f(5) = 9.035\n"
          ],
          "name": "stdout"
        }
      ]
    },
    {
      "cell_type": "code",
      "metadata": {
        "id": "Yay8EsfkvnDr",
        "colab_type": "code",
        "colab": {}
      },
      "source": [
        "# custom model\n",
        "\n",
        "class LinearRegressor(nn.Module):\n",
        "  def __init__(self,input_dim,output_dim):\n",
        "    super(LinearRegressor,self).__init__()\n",
        "\n",
        "    # define layers\n",
        "    self.lin1 = nn.Linear(input_dim,output_dim)\n",
        "\n",
        "  def forward(self,x):\n",
        "    return self.lin1(x)"
      ],
      "execution_count": 24,
      "outputs": []
    },
    {
      "cell_type": "code",
      "metadata": {
        "id": "LcPRBgZfxkww",
        "colab_type": "code",
        "colab": {}
      },
      "source": [
        "model1 = LinearRegressor(input_size,output_size)"
      ],
      "execution_count": 27,
      "outputs": []
    }
  ]
}