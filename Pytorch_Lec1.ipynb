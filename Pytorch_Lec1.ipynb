{
  "nbformat": 4,
  "nbformat_minor": 0,
  "metadata": {
    "colab": {
      "name": "Pytorch_Lec1.ipynb",
      "provenance": [],
      "authorship_tag": "ABX9TyM0JttPLh8WrdVZHotdmHeJ",
      "include_colab_link": true
    },
    "kernelspec": {
      "name": "python3",
      "display_name": "Python 3"
    }
  },
  "cells": [
    {
      "cell_type": "markdown",
      "metadata": {
        "id": "view-in-github",
        "colab_type": "text"
      },
      "source": [
        "<a href=\"https://colab.research.google.com/github/android-kunjapppan/PyTorch-Tutorial/blob/master/Pytorch_Lec1.ipynb\" target=\"_parent\"><img src=\"https://colab.research.google.com/assets/colab-badge.svg\" alt=\"Open In Colab\"/></a>"
      ]
    },
    {
      "cell_type": "markdown",
      "metadata": {
        "id": "Wgkg0QZ0Uhyj",
        "colab_type": "text"
      },
      "source": [
        "* Tensor is a Multi Dimensional Array"
      ]
    },
    {
      "cell_type": "code",
      "metadata": {
        "id": "V6-tc4PRUDGY",
        "colab_type": "code",
        "colab": {
          "base_uri": "https://localhost:8080/",
          "height": 34
        },
        "outputId": "b5fb63d0-9a6c-4204-eab9-2bb1e8186e08"
      },
      "source": [
        "import torch\n",
        "\n",
        "x = torch.tensor([5,3])\n",
        "y = torch.tensor([2,1])\n",
        "\n",
        "print(x*y)"
      ],
      "execution_count": 1,
      "outputs": [
        {
          "output_type": "stream",
          "text": [
            "tensor([10,  3])\n"
          ],
          "name": "stdout"
        }
      ]
    },
    {
      "cell_type": "code",
      "metadata": {
        "id": "z_9klSxKUhVN",
        "colab_type": "code",
        "colab": {
          "base_uri": "https://localhost:8080/",
          "height": 50
        },
        "outputId": "8b7333c6-dc04-48c2-ef61-25a093d3fdbe"
      },
      "source": [
        "x = torch.zeros([2,5])\n",
        "x, x.shape"
      ],
      "execution_count": 3,
      "outputs": [
        {
          "output_type": "execute_result",
          "data": {
            "text/plain": [
              "(tensor([[0., 0., 0., 0., 0.],\n",
              "         [0., 0., 0., 0., 0.]]), torch.Size([2, 5]))"
            ]
          },
          "metadata": {
            "tags": []
          },
          "execution_count": 3
        }
      ]
    },
    {
      "cell_type": "code",
      "metadata": {
        "id": "NaayPnItUmVn",
        "colab_type": "code",
        "colab": {
          "base_uri": "https://localhost:8080/",
          "height": 50
        },
        "outputId": "bc7fd7aa-c0c6-42d8-8d3c-c915864bc26c"
      },
      "source": [
        "y = torch.rand([2,5]) # Random initialization of [2,5] Tensor\n",
        "y,y.shape"
      ],
      "execution_count": 6,
      "outputs": [
        {
          "output_type": "execute_result",
          "data": {
            "text/plain": [
              "(tensor([[0.2113, 0.1300, 0.7150, 0.8503, 0.7413],\n",
              "         [0.4325, 0.6367, 0.6507, 0.5372, 0.2842]]), torch.Size([2, 5]))"
            ]
          },
          "metadata": {
            "tags": []
          },
          "execution_count": 6
        }
      ]
    },
    {
      "cell_type": "code",
      "metadata": {
        "id": "axGEUdhLUzhc",
        "colab_type": "code",
        "colab": {
          "base_uri": "https://localhost:8080/",
          "height": 50
        },
        "outputId": "83492692-9288-4aa4-857d-48dd0cb9972c"
      },
      "source": [
        "# Reshape Function in Torch is view()\n",
        "y=y.view([1,10])\n",
        "y,y.shape"
      ],
      "execution_count": 7,
      "outputs": [
        {
          "output_type": "execute_result",
          "data": {
            "text/plain": [
              "(tensor([[0.2113, 0.1300, 0.7150, 0.8503, 0.7413, 0.4325, 0.6367, 0.6507, 0.5372,\n",
              "          0.2842]]), torch.Size([1, 10]))"
            ]
          },
          "metadata": {
            "tags": []
          },
          "execution_count": 7
        }
      ]
    }
  ]
}