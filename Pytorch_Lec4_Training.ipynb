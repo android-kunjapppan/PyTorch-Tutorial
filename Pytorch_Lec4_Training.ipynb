{
  "nbformat": 4,
  "nbformat_minor": 0,
  "metadata": {
    "colab": {
      "name": "Pytorch_Lec4_Training.ipynb",
      "provenance": [],
      "authorship_tag": "ABX9TyPMKjghZbshb2kM5BonRxhq",
      "include_colab_link": true
    },
    "kernelspec": {
      "name": "python3",
      "display_name": "Python 3"
    }
  },
  "cells": [
    {
      "cell_type": "markdown",
      "metadata": {
        "id": "view-in-github",
        "colab_type": "text"
      },
      "source": [
        "<a href=\"https://colab.research.google.com/github/android-kunjapppan/PyTorch-Tutorial/blob/master/Pytorch_Lec4_Training.ipynb\" target=\"_parent\"><img src=\"https://colab.research.google.com/assets/colab-badge.svg\" alt=\"Open In Colab\"/></a>"
      ]
    },
    {
      "cell_type": "code",
      "metadata": {
        "id": "8YPlBWl5gtTH",
        "colab_type": "code",
        "colab": {}
      },
      "source": [
        "import torch\n",
        "from torchvision import transforms,datasets\n",
        "\n",
        "train = datasets.MNIST(\"\",train=True,download=True,\n",
        "                       transform=transforms.Compose([\n",
        "                                                      transforms.ToTensor()\n",
        "                         ]))\n",
        "\n",
        "\n",
        "test = datasets.MNIST(\"\", train=False, download= True,\n",
        "                      transform = transforms.Compose([\n",
        "                                                      transforms.ToTensor()\n",
        "                      ]))\n",
        "\n",
        "\n",
        "trainset = torch.utils.data.DataLoader(train,batch_size=10,shuffle=True)\n",
        "testset = torch.utils.data.DataLoader(test,batch_size=10, shuffle =True)"
      ],
      "execution_count": 22,
      "outputs": []
    },
    {
      "cell_type": "code",
      "metadata": {
        "id": "L1xlP95Sh3GR",
        "colab_type": "code",
        "colab": {}
      },
      "source": [
        "# Building a NN\n",
        "import torch.nn as nn\n",
        "import torch.nn.functional as F"
      ],
      "execution_count": 24,
      "outputs": []
    },
    {
      "cell_type": "code",
      "metadata": {
        "id": "U__Vl0NYia19",
        "colab_type": "code",
        "colab": {
          "base_uri": "https://localhost:8080/",
          "height": 118
        },
        "outputId": "f48cf042-a2c6-4478-8da4-13f28add983e"
      },
      "source": [
        "class Net(nn.Module):\n",
        "\n",
        "  def __init__(self):\n",
        "    super().__init__()      # Initialising nn.Module\n",
        "    \n",
        "    # Defining the fully connected Layers\n",
        "    self.fc1 = nn.Linear(784, 64)\n",
        "    self.fc2 = nn.Linear(64,128)\n",
        "    self.fc3 = nn.Linear(128,64)\n",
        "    self.fc4 = nn.Linear(64,10)\n",
        "\n",
        "  # Feed Forward Neural Network\n",
        "  def forward(self,x):\n",
        "    x = F.relu(self.fc1(x)) \n",
        "    # x passes through fc1 with relu activation\n",
        "\n",
        "    x = F.relu(self.fc2(x)) \n",
        "    # x passes through fc2 with relu activation\n",
        "\n",
        "    x = F.relu(self.fc3(x)) \n",
        "    # x passes through fc3 with relu activation\n",
        "\n",
        "    x = self.fc4(x)\n",
        "    # x passes through fc4 \n",
        "\n",
        "    \n",
        "    return F.log_softmax(x,dim=1)  # softmax activation for probability distribution\n",
        "  \n",
        "\n",
        "\n",
        "net = Net()\n",
        "print(net)"
      ],
      "execution_count": 36,
      "outputs": [
        {
          "output_type": "stream",
          "text": [
            "Net(\n",
            "  (fc1): Linear(in_features=784, out_features=64, bias=True)\n",
            "  (fc2): Linear(in_features=64, out_features=128, bias=True)\n",
            "  (fc3): Linear(in_features=128, out_features=64, bias=True)\n",
            "  (fc4): Linear(in_features=64, out_features=10, bias=True)\n",
            ")\n"
          ],
          "name": "stdout"
        }
      ]
    },
    {
      "cell_type": "code",
      "metadata": {
        "id": "VAMgPr6migMP",
        "colab_type": "code",
        "colab": {
          "base_uri": "https://localhost:8080/",
          "height": 50
        },
        "outputId": "4c287239-4767-4bb1-8dcc-6be61a03bc30"
      },
      "source": [
        "# creating a random 28x28 array\n",
        "X = torch.rand((28,28))\n",
        "\n",
        "# Reshaping it so that we can pass it through the model\n",
        "X = X.view(1,28*28)\n",
        "# X = X.view(-1,28*28) --> we can use both\n",
        "\n",
        "output = net(X)\n",
        "output"
      ],
      "execution_count": 38,
      "outputs": [
        {
          "output_type": "execute_result",
          "data": {
            "text/plain": [
              "tensor([[-2.3628, -2.2229, -2.2567, -2.3243, -2.4142, -2.3276, -2.1770, -2.4112,\n",
              "         -2.2155, -2.3450]], grad_fn=<LogSoftmaxBackward>)"
            ]
          },
          "metadata": {
            "tags": []
          },
          "execution_count": 38
        }
      ]
    },
    {
      "cell_type": "markdown",
      "metadata": {
        "id": "wnvgJ9JDpEOO",
        "colab_type": "text"
      },
      "source": [
        "# Training:\n",
        "\n",
        "**Loss**: How well is the model \n",
        "Performing. Two ways to calculate loss\n",
        "1. One Hot Vector (MSE)\n",
        "2. log likelihood\n",
        "\n",
        "\n",
        "**Optimizer**: Adjust the weights based on the loss. To lower the loss\n",
        "\n",
        "**Learning Rate**: dictates the size of the step that the optimizer will take to reach the Global Minima\n",
        "\n",
        "**EPOCHS**: A Full pass through our data"
      ]
    },
    {
      "cell_type": "code",
      "metadata": {
        "id": "4bIeT5pko98Q",
        "colab_type": "code",
        "colab": {
          "base_uri": "https://localhost:8080/",
          "height": 67
        },
        "outputId": "abc5dae3-da07-4a9f-eaeb-2af160ec60a7"
      },
      "source": [
        "import torch.optim as optim\n",
        "\n",
        "optimizer = optim.Adam(net.parameters(),lr=0.001)\n",
        "\n",
        "\n",
        "epochs = 3\n",
        "\n",
        "\n",
        "for epoch in range(epochs):\n",
        "  for data in trainset:\n",
        "    # Data is a batch of featuresets and labels\n",
        "    x , y = data\n",
        "    net.zero_grad() # Setting the gradients to zero\n",
        "    \n",
        "    # Passing data through the NN\n",
        "    output = net(x.view(-1,28*28))\n",
        "\n",
        "    # Loss Function\n",
        "    loss = F.nll_loss(output,y)\n",
        "\n",
        "    # Back Propogation\n",
        "    loss.backward()\n",
        "\n",
        "    optimizer.step()\n",
        "  \n",
        "  print(loss)"
      ],
      "execution_count": 40,
      "outputs": [
        {
          "output_type": "stream",
          "text": [
            "tensor(0.0812, grad_fn=<NllLossBackward>)\n",
            "tensor(0.0301, grad_fn=<NllLossBackward>)\n",
            "tensor(0.0002, grad_fn=<NllLossBackward>)\n"
          ],
          "name": "stdout"
        }
      ]
    },
    {
      "cell_type": "code",
      "metadata": {
        "id": "FYjxotb3rh3V",
        "colab_type": "code",
        "colab": {
          "base_uri": "https://localhost:8080/",
          "height": 34
        },
        "outputId": "05356c42-9c46-46da-f2fb-2a219904ab1d"
      },
      "source": [
        "# Looking how good is the network\n",
        "\n",
        "correct = 0\n",
        "total = 0\n",
        "\n",
        "with torch.no_grad():\n",
        "  for data in trainset:\n",
        "    x,y = data\n",
        "    output  = net(x.view(-1,28*28))\n",
        "\n",
        "    # \n",
        "    for idx,i in enumerate(output):\n",
        "      if torch.argmax(i)  ==  y[idx]:\n",
        "        correct +=1\n",
        "      total+=1\n",
        "    \n",
        "print(\"Accuracy\",round(correct/total,3))\n"
      ],
      "execution_count": 47,
      "outputs": [
        {
          "output_type": "stream",
          "text": [
            "Accuracy 0.974\n"
          ],
          "name": "stdout"
        }
      ]
    },
    {
      "cell_type": "code",
      "metadata": {
        "id": "yQPEYXToszI1",
        "colab_type": "code",
        "colab": {
          "base_uri": "https://localhost:8080/",
          "height": 282
        },
        "outputId": "fcf8ee98-f52e-4812-d40d-5fd780d35e4e"
      },
      "source": [
        "import matplotlib.pyplot as plt\n",
        "\n",
        "plt.imshow(x[0].view(28,28))"
      ],
      "execution_count": 45,
      "outputs": [
        {
          "output_type": "execute_result",
          "data": {
            "text/plain": [
              "<matplotlib.image.AxesImage at 0x7f3c097f7fd0>"
            ]
          },
          "metadata": {
            "tags": []
          },
          "execution_count": 45
        },
        {
          "output_type": "display_data",
          "data": {
            "image/png": "[encoded data removed]",
            "text/plain": [
              "<Figure size 432x288 with 1 Axes>"
            ]
          },
          "metadata": {
            "tags": [],
            "needs_background": "light"
          }
        }
      ]
    },
    {
      "cell_type": "code",
      "metadata": {
        "id": "zzPJdG5hvR5F",
        "colab_type": "code",
        "colab": {
          "base_uri": "https://localhost:8080/",
          "height": 34
        },
        "outputId": "109f20cb-5491-4e42-ee07-e4eaf99f17b1"
      },
      "source": [
        "print(torch.argmax(net(x[0].view(-1,28*28))))"
      ],
      "execution_count": 46,
      "outputs": [
        {
          "output_type": "stream",
          "text": [
            "tensor(9)\n"
          ],
          "name": "stdout"
        }
      ]
    }
  ]
}